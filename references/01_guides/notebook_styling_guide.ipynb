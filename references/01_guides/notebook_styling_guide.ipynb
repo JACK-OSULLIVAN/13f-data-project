{
 "cells": [
  {
   "cell_type": "markdown",
   "metadata": {},
   "source": [
    "# Markdown Tips for Jupyter Notebooks\n",
    "Markdown is a lightweight markup language that allows you to format text using simple syntax. click on the cells to see how to format.\n",
    "\n",
    "Here are some useful tips for formatting your Jupyter notebooks:\n"
   ]
  },
  {
   "cell_type": "markdown",
   "metadata": {},
   "source": [
    "## Emphasis\n",
    "\n",
    "*italic* or _italic_  \n",
    "**bold** or __bold__"
   ]
  },
  {
   "cell_type": "markdown",
   "metadata": {},
   "source": [
    "## Lists\n",
    "\n",
    "- Use `-` or `*` for unordered lists.\n",
    "1. Use numbers followed by `.` for ordered lists."
   ]
  },
  {
   "cell_type": "markdown",
   "metadata": {},
   "source": [
    "## Links\n",
    "\n",
    "[inline link](https://www.example.com)  \n",
    "[reference link][reference]  \n",
    "[reference]: https://www.example.com"
   ]
  },
  {
   "cell_type": "markdown",
   "metadata": {},
   "source": [
    "## Images\n",
    "\n",
    "![alt text](https://www.example.com/image.jpg)"
   ]
  },
  {
   "cell_type": "markdown",
   "metadata": {},
   "source": [
    "## Code Blocks\n",
    "\n",
    "```python\n",
    "# Python code block\n",
    "print(\"Hello, world!\")"
   ]
  },
  {
   "cell_type": "markdown",
   "metadata": {},
   "source": [
    "## Tables\n",
    "\n",
    "To create tables in Markdown, use pipes `|` to separate columns and hyphens `-` to separate the header from the content. You can delete the placeholder content and replace it with your own data.\n",
    "\n",
    "```markdown\n",
    "| Header 1 | Header 2 |\n",
    "|----------|----------|\n",
    "| Cell 1   | Cell 2   |\n"
   ]
  }
 ],
 "metadata": {
  "language_info": {
   "name": "python"
  }
 },
 "nbformat": 4,
 "nbformat_minor": 2
}
